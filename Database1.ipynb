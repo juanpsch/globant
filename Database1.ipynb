{
 "cells": [
  {
   "cell_type": "code",
   "execution_count": 34,
   "metadata": {},
   "outputs": [],
   "source": [
    "import sqlite3\n",
    "import csv\n",
    "import pandas as pd\n",
    "import traceback\n",
    "import sys\n",
    "from sqlalchemy import create_engine"
   ]
  },
  {
   "cell_type": "code",
   "execution_count": 21,
   "metadata": {},
   "outputs": [],
   "source": [
    "db = \"test3.db\""
   ]
  },
  {
   "attachments": {},
   "cell_type": "markdown",
   "metadata": {},
   "source": [
    "## Creacion de Tablas"
   ]
  },
  {
   "cell_type": "code",
   "execution_count": 22,
   "metadata": {},
   "outputs": [],
   "source": [
    "## CREACION DE TABLAS\n",
    "\n",
    "con = sqlite3.connect(db)\n",
    "cur = con.cursor()\n",
    "\n",
    "\n",
    "try:\n",
    "    sql_file = open(\"createTables.sql\")\n",
    "    sql_as_string = sql_file.read()\n",
    "    cur.executescript(sql_as_string)\n",
    "except sqlite3.Error as er:\n",
    "     print('SQLite error: %s' % (' '.join(er.args)))\n",
    "     print(\"Exception class is: \", er.__class__)\n",
    "     print('SQLite traceback: ')\n",
    "     exc_type, exc_value, exc_tb = sys.exc_info()\n",
    "     print(traceback.format_exception(exc_type, exc_value, exc_tb))\n",
    "     con.close()\n",
    "\n",
    "con.close()"
   ]
  },
  {
   "attachments": {},
   "cell_type": "markdown",
   "metadata": {},
   "source": [
    "## Migrar datos desde archivos CSV"
   ]
  },
  {
   "attachments": {},
   "cell_type": "markdown",
   "metadata": {},
   "source": [
    "### Leer los CVS"
   ]
  },
  {
   "cell_type": "code",
   "execution_count": 23,
   "metadata": {},
   "outputs": [],
   "source": [
    "depts = pd.read_csv('data/departments.csv', header=0)\n",
    "emps = pd.read_csv('data/hired_employees.csv')\n",
    "jobs = pd.read_csv('data/jobs.csv')"
   ]
  },
  {
   "attachments": {},
   "cell_type": "markdown",
   "metadata": {},
   "source": [
    "### Generar Dataframes"
   ]
  },
  {
   "cell_type": "code",
   "execution_count": 24,
   "metadata": {},
   "outputs": [],
   "source": [
    "depts = pd.read_csv('data/departments.csv', header=None)\n",
    "depts.columns = ['id', 'department']\n",
    "\n",
    "jobs = pd.read_csv('data/jobs.csv', header=None)\n",
    "jobs.columns = ['id', 'job']\n",
    "\n",
    "hired_employees = pd.read_csv('data/hired_employees.csv', header=None)\n",
    "hired_employees.columns = ['id', 'name', 'department_id', 'job_id', 'datetime']\n"
   ]
  },
  {
   "attachments": {},
   "cell_type": "markdown",
   "metadata": {},
   "source": [
    "### Llenar las tablas a partir de los DataFrames"
   ]
  },
  {
   "cell_type": "code",
   "execution_count": 26,
   "metadata": {},
   "outputs": [],
   "source": [
    "con = sqlite3.connect(db)\n",
    "\n",
    "try:\n",
    "    depts.to_sql('departments', con, if_exists='append', index=False)\n",
    "except sqlite3.Error as er:\n",
    "     print('SQLite error: %s' % (' '.join(er.args)))\n",
    "     print(\"Exception class is: \", er.__class__)\n",
    "     print('SQLite traceback: ')\n",
    "     exc_type, exc_value, exc_tb = sys.exc_info()\n",
    "     print(traceback.format_exception(exc_type, exc_value, exc_tb))\n",
    "     \n",
    "try:\n",
    "    jobs.to_sql('jobs', con, if_exists='append', index=False)\n",
    "except sqlite3.Error as er:\n",
    "     print('SQLite error: %s' % (' '.join(er.args)))\n",
    "     print(\"Exception class is: \", er.__class__)\n",
    "     print('SQLite traceback: ')\n",
    "     exc_type, exc_value, exc_tb = sys.exc_info()\n",
    "     print(traceback.format_exception(exc_type, exc_value, exc_tb))\n",
    "     \n",
    "try:\n",
    "    hired_employees.to_sql('hired_employees', con, if_exists='append', index=False)\n",
    "except sqlite3.Error as er:\n",
    "     print('SQLite error: %s' % (' '.join(er.args)))\n",
    "     print(\"Exception class is: \", er.__class__)\n",
    "     print('SQLite traceback: ')\n",
    "     exc_type, exc_value, exc_tb = sys.exc_info()\n",
    "     print(traceback.format_exception(exc_type, exc_value, exc_tb))\n",
    "     \n",
    "con.close()"
   ]
  },
  {
   "cell_type": "code",
   "execution_count": 48,
   "metadata": {},
   "outputs": [
    {
     "ename": "TypeError",
     "evalue": "fromisoformat: argument must be str",
     "output_type": "error",
     "traceback": [
      "\u001b[1;31m---------------------------------------------------------------------------\u001b[0m",
      "\u001b[1;31mTypeError\u001b[0m                                 Traceback (most recent call last)",
      "Cell \u001b[1;32mIn[48], line 6\u001b[0m\n\u001b[0;32m      4\u001b[0m jobsDf \u001b[39m=\u001b[39m pd\u001b[39m.\u001b[39mread_sql_table(\u001b[39m'\u001b[39m\u001b[39mJOBS\u001b[39m\u001b[39m'\u001b[39m, cnx)\n\u001b[0;32m      5\u001b[0m deptsDf \u001b[39m=\u001b[39m pd\u001b[39m.\u001b[39mread_sql_table(\u001b[39m'\u001b[39m\u001b[39mDEPARTMENTS\u001b[39m\u001b[39m'\u001b[39m, cnx)\n\u001b[1;32m----> 6\u001b[0m empsDf \u001b[39m=\u001b[39m pd\u001b[39m.\u001b[39;49mread_sql_table(\u001b[39m'\u001b[39;49m\u001b[39mHIRED_EMPLOYEES\u001b[39;49m\u001b[39m'\u001b[39;49m, cnx)\n",
      "File \u001b[1;32md:\\Users\\juanp_schamun\\Documents\\GitRepositories\\globant\\.venv\\Lib\\site-packages\\pandas\\io\\sql.py:286\u001b[0m, in \u001b[0;36mread_sql_table\u001b[1;34m(table_name, con, schema, index_col, coerce_float, parse_dates, columns, chunksize)\u001b[0m\n\u001b[0;32m    282\u001b[0m     \u001b[39mraise\u001b[39;00m \u001b[39mValueError\u001b[39;00m(\u001b[39mf\u001b[39m\u001b[39m\"\u001b[39m\u001b[39mTable \u001b[39m\u001b[39m{\u001b[39;00mtable_name\u001b[39m}\u001b[39;00m\u001b[39m not found\u001b[39m\u001b[39m\"\u001b[39m)\n\u001b[0;32m    284\u001b[0m \u001b[39m# error: Item \"SQLiteDatabase\" of \"Union[SQLDatabase, SQLiteDatabase]\"\u001b[39;00m\n\u001b[0;32m    285\u001b[0m \u001b[39m# has no attribute \"read_table\"\u001b[39;00m\n\u001b[1;32m--> 286\u001b[0m table \u001b[39m=\u001b[39m pandas_sql\u001b[39m.\u001b[39;49mread_table(  \u001b[39m# type: ignore[union-attr]\u001b[39;49;00m\n\u001b[0;32m    287\u001b[0m     table_name,\n\u001b[0;32m    288\u001b[0m     index_col\u001b[39m=\u001b[39;49mindex_col,\n\u001b[0;32m    289\u001b[0m     coerce_float\u001b[39m=\u001b[39;49mcoerce_float,\n\u001b[0;32m    290\u001b[0m     parse_dates\u001b[39m=\u001b[39;49mparse_dates,\n\u001b[0;32m    291\u001b[0m     columns\u001b[39m=\u001b[39;49mcolumns,\n\u001b[0;32m    292\u001b[0m     chunksize\u001b[39m=\u001b[39;49mchunksize,\n\u001b[0;32m    293\u001b[0m )\n\u001b[0;32m    295\u001b[0m \u001b[39mif\u001b[39;00m table \u001b[39mis\u001b[39;00m \u001b[39mnot\u001b[39;00m \u001b[39mNone\u001b[39;00m:\n\u001b[0;32m    296\u001b[0m     \u001b[39mreturn\u001b[39;00m table\n",
      "File \u001b[1;32md:\\Users\\juanp_schamun\\Documents\\GitRepositories\\globant\\.venv\\Lib\\site-packages\\pandas\\io\\sql.py:1460\u001b[0m, in \u001b[0;36mSQLDatabase.read_table\u001b[1;34m(self, table_name, index_col, coerce_float, parse_dates, columns, schema, chunksize)\u001b[0m\n\u001b[0;32m   1417\u001b[0m \u001b[39m\u001b[39m\u001b[39m\"\"\"\u001b[39;00m\n\u001b[0;32m   1418\u001b[0m \u001b[39mRead SQL database table into a DataFrame.\u001b[39;00m\n\u001b[0;32m   1419\u001b[0m \n\u001b[1;32m   (...)\u001b[0m\n\u001b[0;32m   1457\u001b[0m \n\u001b[0;32m   1458\u001b[0m \u001b[39m\"\"\"\u001b[39;00m\n\u001b[0;32m   1459\u001b[0m table \u001b[39m=\u001b[39m SQLTable(table_name, \u001b[39mself\u001b[39m, index\u001b[39m=\u001b[39mindex_col, schema\u001b[39m=\u001b[39mschema)\n\u001b[1;32m-> 1460\u001b[0m \u001b[39mreturn\u001b[39;00m table\u001b[39m.\u001b[39;49mread(\n\u001b[0;32m   1461\u001b[0m     coerce_float\u001b[39m=\u001b[39;49mcoerce_float,\n\u001b[0;32m   1462\u001b[0m     parse_dates\u001b[39m=\u001b[39;49mparse_dates,\n\u001b[0;32m   1463\u001b[0m     columns\u001b[39m=\u001b[39;49mcolumns,\n\u001b[0;32m   1464\u001b[0m     chunksize\u001b[39m=\u001b[39;49mchunksize,\n\u001b[0;32m   1465\u001b[0m )\n",
      "File \u001b[1;32md:\\Users\\juanp_schamun\\Documents\\GitRepositories\\globant\\.venv\\Lib\\site-packages\\pandas\\io\\sql.py:1015\u001b[0m, in \u001b[0;36mSQLTable.read\u001b[1;34m(self, coerce_float, parse_dates, columns, chunksize)\u001b[0m\n\u001b[0;32m   1007\u001b[0m     \u001b[39mreturn\u001b[39;00m \u001b[39mself\u001b[39m\u001b[39m.\u001b[39m_query_iterator(\n\u001b[0;32m   1008\u001b[0m         result,\n\u001b[0;32m   1009\u001b[0m         chunksize,\n\u001b[1;32m   (...)\u001b[0m\n\u001b[0;32m   1012\u001b[0m         parse_dates\u001b[39m=\u001b[39mparse_dates,\n\u001b[0;32m   1013\u001b[0m     )\n\u001b[0;32m   1014\u001b[0m \u001b[39melse\u001b[39;00m:\n\u001b[1;32m-> 1015\u001b[0m     data \u001b[39m=\u001b[39m result\u001b[39m.\u001b[39;49mfetchall()\n\u001b[0;32m   1016\u001b[0m     \u001b[39mself\u001b[39m\u001b[39m.\u001b[39mframe \u001b[39m=\u001b[39m DataFrame\u001b[39m.\u001b[39mfrom_records(\n\u001b[0;32m   1017\u001b[0m         data, columns\u001b[39m=\u001b[39mcolumn_names, coerce_float\u001b[39m=\u001b[39mcoerce_float\n\u001b[0;32m   1018\u001b[0m     )\n\u001b[0;32m   1020\u001b[0m     \u001b[39mself\u001b[39m\u001b[39m.\u001b[39m_harmonize_columns(parse_dates\u001b[39m=\u001b[39mparse_dates)\n",
      "File \u001b[1;32md:\\Users\\juanp_schamun\\Documents\\GitRepositories\\globant\\.venv\\Lib\\site-packages\\sqlalchemy\\engine\\result.py:1303\u001b[0m, in \u001b[0;36mResult.fetchall\u001b[1;34m(self)\u001b[0m\n\u001b[0;32m   1300\u001b[0m \u001b[39mdef\u001b[39;00m \u001b[39mfetchall\u001b[39m(\u001b[39mself\u001b[39m) \u001b[39m-\u001b[39m\u001b[39m>\u001b[39m Sequence[Row[_TP]]:\n\u001b[0;32m   1301\u001b[0m \u001b[39m    \u001b[39m\u001b[39m\"\"\"A synonym for the :meth:`_engine.Result.all` method.\"\"\"\u001b[39;00m\n\u001b[1;32m-> 1303\u001b[0m     \u001b[39mreturn\u001b[39;00m \u001b[39mself\u001b[39;49m\u001b[39m.\u001b[39;49m_allrows()\n",
      "File \u001b[1;32md:\\Users\\juanp_schamun\\Documents\\GitRepositories\\globant\\.venv\\Lib\\site-packages\\sqlalchemy\\engine\\result.py:532\u001b[0m, in \u001b[0;36mResultInternal._allrows\u001b[1;34m(self)\u001b[0m\n\u001b[0;32m    530\u001b[0m made_rows: List[_InterimRowType[_R]]\n\u001b[0;32m    531\u001b[0m \u001b[39mif\u001b[39;00m make_row:\n\u001b[1;32m--> 532\u001b[0m     made_rows \u001b[39m=\u001b[39m [make_row(row) \u001b[39mfor\u001b[39;49;00m row \u001b[39min\u001b[39;49;00m rows]\n\u001b[0;32m    533\u001b[0m \u001b[39melse\u001b[39;00m:\n\u001b[0;32m    534\u001b[0m     made_rows \u001b[39m=\u001b[39m rows  \u001b[39m# type: ignore\u001b[39;00m\n",
      "File \u001b[1;32md:\\Users\\juanp_schamun\\Documents\\GitRepositories\\globant\\.venv\\Lib\\site-packages\\sqlalchemy\\engine\\result.py:532\u001b[0m, in \u001b[0;36m<listcomp>\u001b[1;34m(.0)\u001b[0m\n\u001b[0;32m    530\u001b[0m made_rows: List[_InterimRowType[_R]]\n\u001b[0;32m    531\u001b[0m \u001b[39mif\u001b[39;00m make_row:\n\u001b[1;32m--> 532\u001b[0m     made_rows \u001b[39m=\u001b[39m [make_row(row) \u001b[39mfor\u001b[39;00m row \u001b[39min\u001b[39;00m rows]\n\u001b[0;32m    533\u001b[0m \u001b[39melse\u001b[39;00m:\n\u001b[0;32m    534\u001b[0m     made_rows \u001b[39m=\u001b[39m rows  \u001b[39m# type: ignore\u001b[39;00m\n",
      "File \u001b[1;32mlib\\sqlalchemy\\cyextension\\resultproxy.pyx:25\u001b[0m, in \u001b[0;36msqlalchemy.cyextension.resultproxy.BaseRow.__init__\u001b[1;34m()\u001b[0m\n",
      "File \u001b[1;32mlib\\sqlalchemy\\cyextension\\processors.pyx:45\u001b[0m, in \u001b[0;36msqlalchemy.cyextension.processors.str_to_date\u001b[1;34m()\u001b[0m\n",
      "\u001b[1;31mTypeError\u001b[0m: fromisoformat: argument must be str"
     ]
    }
   ],
   "source": [
    "# SQLAlchemy connectable\n",
    "cnx = create_engine('sqlite:///' + db).connect()\n",
    "# table named 'contacts' will be returned as a dataframe.\n",
    "jobsDf = pd.read_sql_table('JOBS', cnx)\n",
    "deptsDf = pd.read_sql_table('DEPARTMENTS', cnx)\n",
    "empsDf = pd.read_sql_table('HIRED_EMPLOYEES', cnx)"
   ]
  },
  {
   "cell_type": "code",
   "execution_count": 51,
   "metadata": {},
   "outputs": [],
   "source": [
    "con = sqlite3.connect(db)\n",
    "\n",
    "sql_query = pd.read_sql('SELECT * FROM DEPARTMENTS', con)\n",
    "depts = pd.DataFrame(sql_query)\n",
    "sql_query = pd.read_sql('SELECT * FROM JOBS', con)\n",
    "jobs = pd.DataFrame(sql_query)\n",
    "sql_query = pd.read_sql('SELECT * FROM HIRED_EMPLOYEES', con)\n",
    "hired_employees = pd.DataFrame(sql_query)\n",
    "\n",
    "con.close()"
   ]
  },
  {
   "cell_type": "code",
   "execution_count": 55,
   "metadata": {},
   "outputs": [
    {
     "data": {
      "text/html": [
       "<div>\n",
       "<style scoped>\n",
       "    .dataframe tbody tr th:only-of-type {\n",
       "        vertical-align: middle;\n",
       "    }\n",
       "\n",
       "    .dataframe tbody tr th {\n",
       "        vertical-align: top;\n",
       "    }\n",
       "\n",
       "    .dataframe thead th {\n",
       "        text-align: right;\n",
       "    }\n",
       "</style>\n",
       "<table border=\"1\" class=\"dataframe\">\n",
       "  <thead>\n",
       "    <tr style=\"text-align: right;\">\n",
       "      <th></th>\n",
       "      <th>id</th>\n",
       "      <th>department</th>\n",
       "    </tr>\n",
       "  </thead>\n",
       "  <tbody>\n",
       "    <tr>\n",
       "      <th>0</th>\n",
       "      <td>1</td>\n",
       "      <td>Product Management</td>\n",
       "    </tr>\n",
       "    <tr>\n",
       "      <th>1</th>\n",
       "      <td>2</td>\n",
       "      <td>Sales</td>\n",
       "    </tr>\n",
       "    <tr>\n",
       "      <th>2</th>\n",
       "      <td>3</td>\n",
       "      <td>Research and Development</td>\n",
       "    </tr>\n",
       "    <tr>\n",
       "      <th>3</th>\n",
       "      <td>4</td>\n",
       "      <td>Business Development</td>\n",
       "    </tr>\n",
       "    <tr>\n",
       "      <th>4</th>\n",
       "      <td>5</td>\n",
       "      <td>Engineering</td>\n",
       "    </tr>\n",
       "    <tr>\n",
       "      <th>5</th>\n",
       "      <td>6</td>\n",
       "      <td>Human Resources</td>\n",
       "    </tr>\n",
       "    <tr>\n",
       "      <th>6</th>\n",
       "      <td>7</td>\n",
       "      <td>Services</td>\n",
       "    </tr>\n",
       "    <tr>\n",
       "      <th>7</th>\n",
       "      <td>8</td>\n",
       "      <td>Support</td>\n",
       "    </tr>\n",
       "    <tr>\n",
       "      <th>8</th>\n",
       "      <td>9</td>\n",
       "      <td>Marketing</td>\n",
       "    </tr>\n",
       "    <tr>\n",
       "      <th>9</th>\n",
       "      <td>10</td>\n",
       "      <td>Training</td>\n",
       "    </tr>\n",
       "    <tr>\n",
       "      <th>10</th>\n",
       "      <td>11</td>\n",
       "      <td>Legal</td>\n",
       "    </tr>\n",
       "    <tr>\n",
       "      <th>11</th>\n",
       "      <td>12</td>\n",
       "      <td>Accounting</td>\n",
       "    </tr>\n",
       "  </tbody>\n",
       "</table>\n",
       "</div>"
      ],
      "text/plain": [
       "    id                department\n",
       "0    1        Product Management\n",
       "1    2                     Sales\n",
       "2    3  Research and Development\n",
       "3    4      Business Development\n",
       "4    5               Engineering\n",
       "5    6           Human Resources\n",
       "6    7                  Services\n",
       "7    8                   Support\n",
       "8    9                 Marketing\n",
       "9   10                  Training\n",
       "10  11                     Legal\n",
       "11  12                Accounting"
      ]
     },
     "execution_count": 55,
     "metadata": {},
     "output_type": "execute_result"
    }
   ],
   "source": [
    "depts"
   ]
  },
  {
   "cell_type": "code",
   "execution_count": 106,
   "metadata": {},
   "outputs": [
    {
     "data": {
      "text/html": [
       "<div>\n",
       "<style scoped>\n",
       "    .dataframe tbody tr th:only-of-type {\n",
       "        vertical-align: middle;\n",
       "    }\n",
       "\n",
       "    .dataframe tbody tr th {\n",
       "        vertical-align: top;\n",
       "    }\n",
       "\n",
       "    .dataframe thead th {\n",
       "        text-align: right;\n",
       "    }\n",
       "</style>\n",
       "<table border=\"1\" class=\"dataframe\">\n",
       "  <thead>\n",
       "    <tr style=\"text-align: right;\">\n",
       "      <th></th>\n",
       "      <th>id</th>\n",
       "      <th>name</th>\n",
       "      <th>department_id</th>\n",
       "      <th>job_id</th>\n",
       "      <th>datetime</th>\n",
       "    </tr>\n",
       "  </thead>\n",
       "  <tbody>\n",
       "    <tr>\n",
       "      <th>161</th>\n",
       "      <td>162</td>\n",
       "      <td>NaN</td>\n",
       "      <td>2021-04-22T14:31:39Z</td>\n",
       "      <td>4.0</td>\n",
       "      <td>91.0</td>\n",
       "    </tr>\n",
       "    <tr>\n",
       "      <th>339</th>\n",
       "      <td>340</td>\n",
       "      <td>NaN</td>\n",
       "      <td>2022-01-13T21:09:49Z</td>\n",
       "      <td>4.0</td>\n",
       "      <td>45.0</td>\n",
       "    </tr>\n",
       "    <tr>\n",
       "      <th>349</th>\n",
       "      <td>350</td>\n",
       "      <td>NaN</td>\n",
       "      <td>2021-07-13T23:34:40Z</td>\n",
       "      <td>10.0</td>\n",
       "      <td>86.0</td>\n",
       "    </tr>\n",
       "    <tr>\n",
       "      <th>570</th>\n",
       "      <td>571</td>\n",
       "      <td>NaN</td>\n",
       "      <td>2021-11-28T02:28:40Z</td>\n",
       "      <td>7.0</td>\n",
       "      <td>69.0</td>\n",
       "    </tr>\n",
       "    <tr>\n",
       "      <th>622</th>\n",
       "      <td>623</td>\n",
       "      <td>NaN</td>\n",
       "      <td>2022-01-04T17:42:48Z</td>\n",
       "      <td>7.0</td>\n",
       "      <td>48.0</td>\n",
       "    </tr>\n",
       "    <tr>\n",
       "      <th>765</th>\n",
       "      <td>766</td>\n",
       "      <td>NaN</td>\n",
       "      <td>2021-05-31T05:31:53Z</td>\n",
       "      <td>2.0</td>\n",
       "      <td>67.0</td>\n",
       "    </tr>\n",
       "    <tr>\n",
       "      <th>772</th>\n",
       "      <td>773</td>\n",
       "      <td>NaN</td>\n",
       "      <td>2021-11-16T02:34:50Z</td>\n",
       "      <td>5.0</td>\n",
       "      <td>35.0</td>\n",
       "    </tr>\n",
       "    <tr>\n",
       "      <th>830</th>\n",
       "      <td>831</td>\n",
       "      <td>NaN</td>\n",
       "      <td>2021-10-22T16:30:46Z</td>\n",
       "      <td>6.0</td>\n",
       "      <td>11.0</td>\n",
       "    </tr>\n",
       "    <tr>\n",
       "      <th>936</th>\n",
       "      <td>937</td>\n",
       "      <td>NaN</td>\n",
       "      <td>2021-03-26T20:41:40Z</td>\n",
       "      <td>3.0</td>\n",
       "      <td>60.0</td>\n",
       "    </tr>\n",
       "    <tr>\n",
       "      <th>969</th>\n",
       "      <td>970</td>\n",
       "      <td>NaN</td>\n",
       "      <td>2021-08-08T06:06:40Z</td>\n",
       "      <td>4.0</td>\n",
       "      <td>33.0</td>\n",
       "    </tr>\n",
       "    <tr>\n",
       "      <th>1048</th>\n",
       "      <td>1049</td>\n",
       "      <td>NaN</td>\n",
       "      <td>2021-05-08T23:05:13Z</td>\n",
       "      <td>6.0</td>\n",
       "      <td>91.0</td>\n",
       "    </tr>\n",
       "    <tr>\n",
       "      <th>1129</th>\n",
       "      <td>1130</td>\n",
       "      <td>NaN</td>\n",
       "      <td>2021-10-19T08:43:38Z</td>\n",
       "      <td>1.0</td>\n",
       "      <td>128.0</td>\n",
       "    </tr>\n",
       "    <tr>\n",
       "      <th>1169</th>\n",
       "      <td>1170</td>\n",
       "      <td>NaN</td>\n",
       "      <td>2021-03-15T10:47:48Z</td>\n",
       "      <td>7.0</td>\n",
       "      <td>130.0</td>\n",
       "    </tr>\n",
       "    <tr>\n",
       "      <th>1194</th>\n",
       "      <td>1195</td>\n",
       "      <td>NaN</td>\n",
       "      <td>2021-08-13T09:22:18Z</td>\n",
       "      <td>10.0</td>\n",
       "      <td>54.0</td>\n",
       "    </tr>\n",
       "    <tr>\n",
       "      <th>1321</th>\n",
       "      <td>1322</td>\n",
       "      <td>NaN</td>\n",
       "      <td>2021-03-26T23:44:34Z</td>\n",
       "      <td>5.0</td>\n",
       "      <td>47.0</td>\n",
       "    </tr>\n",
       "    <tr>\n",
       "      <th>1492</th>\n",
       "      <td>1493</td>\n",
       "      <td>NaN</td>\n",
       "      <td>2021-03-20T10:48:47Z</td>\n",
       "      <td>10.0</td>\n",
       "      <td>153.0</td>\n",
       "    </tr>\n",
       "    <tr>\n",
       "      <th>1687</th>\n",
       "      <td>1688</td>\n",
       "      <td>NaN</td>\n",
       "      <td>2022-01-20T19:51:12Z</td>\n",
       "      <td>11.0</td>\n",
       "      <td>100.0</td>\n",
       "    </tr>\n",
       "    <tr>\n",
       "      <th>1798</th>\n",
       "      <td>1799</td>\n",
       "      <td>NaN</td>\n",
       "      <td>2021-03-10T07:35:09Z</td>\n",
       "      <td>8.0</td>\n",
       "      <td>111.0</td>\n",
       "    </tr>\n",
       "    <tr>\n",
       "      <th>1857</th>\n",
       "      <td>1858</td>\n",
       "      <td>NaN</td>\n",
       "      <td>2021-06-28T03:01:01Z</td>\n",
       "      <td>6.0</td>\n",
       "      <td>144.0</td>\n",
       "    </tr>\n",
       "  </tbody>\n",
       "</table>\n",
       "</div>"
      ],
      "text/plain": [
       "        id name         department_id  job_id  datetime\n",
       "161    162  NaN  2021-04-22T14:31:39Z     4.0      91.0\n",
       "339    340  NaN  2022-01-13T21:09:49Z     4.0      45.0\n",
       "349    350  NaN  2021-07-13T23:34:40Z    10.0      86.0\n",
       "570    571  NaN  2021-11-28T02:28:40Z     7.0      69.0\n",
       "622    623  NaN  2022-01-04T17:42:48Z     7.0      48.0\n",
       "765    766  NaN  2021-05-31T05:31:53Z     2.0      67.0\n",
       "772    773  NaN  2021-11-16T02:34:50Z     5.0      35.0\n",
       "830    831  NaN  2021-10-22T16:30:46Z     6.0      11.0\n",
       "936    937  NaN  2021-03-26T20:41:40Z     3.0      60.0\n",
       "969    970  NaN  2021-08-08T06:06:40Z     4.0      33.0\n",
       "1048  1049  NaN  2021-05-08T23:05:13Z     6.0      91.0\n",
       "1129  1130  NaN  2021-10-19T08:43:38Z     1.0     128.0\n",
       "1169  1170  NaN  2021-03-15T10:47:48Z     7.0     130.0\n",
       "1194  1195  NaN  2021-08-13T09:22:18Z    10.0      54.0\n",
       "1321  1322  NaN  2021-03-26T23:44:34Z     5.0      47.0\n",
       "1492  1493  NaN  2021-03-20T10:48:47Z    10.0     153.0\n",
       "1687  1688  NaN  2022-01-20T19:51:12Z    11.0     100.0\n",
       "1798  1799  NaN  2021-03-10T07:35:09Z     8.0     111.0\n",
       "1857  1858  NaN  2021-06-28T03:01:01Z     6.0     144.0"
      ]
     },
     "execution_count": 106,
     "metadata": {},
     "output_type": "execute_result"
    }
   ],
   "source": [
    "hired_employees[hired_employees['name'].isna()]"
   ]
  },
  {
   "cell_type": "code",
   "execution_count": 12,
   "metadata": {},
   "outputs": [
    {
     "ename": "ProgrammingError",
     "evalue": "Cannot operate on a closed database.",
     "output_type": "error",
     "traceback": [
      "\u001b[1;31m---------------------------------------------------------------------------\u001b[0m",
      "\u001b[1;31mProgrammingError\u001b[0m                          Traceback (most recent call last)",
      "Cell \u001b[1;32mIn[12], line 1\u001b[0m\n\u001b[1;32m----> 1\u001b[0m res \u001b[39m=\u001b[39m cur\u001b[39m.\u001b[39;49mexecute(\u001b[39m\"\u001b[39;49m\u001b[39mSELECT name FROM sqlite_master WHERE name=\u001b[39;49m\u001b[39m'\u001b[39;49m\u001b[39mspam\u001b[39;49m\u001b[39m'\u001b[39;49m\u001b[39m\"\u001b[39;49m)\n\u001b[0;32m      2\u001b[0m res\u001b[39m.\u001b[39mfetchone() \u001b[39mis\u001b[39;00m \u001b[39mNone\u001b[39;00m\n",
      "\u001b[1;31mProgrammingError\u001b[0m: Cannot operate on a closed database."
     ]
    }
   ],
   "source": [
    "res = cur.execute(\"SELECT name FROM sqlite_master WHERE name='spam'\")\n",
    "res.fetchone() is None"
   ]
  },
  {
   "cell_type": "code",
   "execution_count": 12,
   "metadata": {},
   "outputs": [
    {
     "data": {
      "text/plain": [
       "<sqlite3.Cursor at 0x202d26851c0>"
      ]
     },
     "execution_count": 12,
     "metadata": {},
     "output_type": "execute_result"
    }
   ],
   "source": [
    "cur.execute(\"\"\"\n",
    "    INSERT INTO movie VALUES\n",
    "        ('Monty Python and the Holy Grail', 1975, 8.2),\n",
    "        ('And Now for Something Completely Different', 1971, 7.5)\n",
    "\"\"\")"
   ]
  },
  {
   "cell_type": "code",
   "execution_count": 16,
   "metadata": {},
   "outputs": [],
   "source": [
    "data = [\n",
    "    (\"Monty Python Live at the Hollywood Bowl\", 1982, 7.9),\n",
    "    (\"Monty Python's The Meaning of Life\", 1983, 7.5),\n",
    "    (\"Monty Python's Life of Brian\", 1979, 8.0),\n",
    "]\n",
    "cur.executemany(\"INSERT INTO movie VALUES(?, ?, ?)\", data)\n",
    "con.commit()  # Remember to commit the transaction after executing INSERT."
   ]
  },
  {
   "cell_type": "code",
   "execution_count": 13,
   "metadata": {},
   "outputs": [],
   "source": [
    "con.commit()"
   ]
  },
  {
   "cell_type": "code",
   "execution_count": 17,
   "metadata": {},
   "outputs": [
    {
     "data": {
      "text/plain": [
       "[('Monty Python and the Holy Grail', 1975, 8.2),\n",
       " ('And Now for Something Completely Different', 1971, 7.5),\n",
       " ('Monty Python Live at the Hollywood Bowl', 1982, 7.9),\n",
       " (\"Monty Python's The Meaning of Life\", 1983, 7.5),\n",
       " (\"Monty Python's Life of Brian\", 1979, 8.0)]"
      ]
     },
     "execution_count": 17,
     "metadata": {},
     "output_type": "execute_result"
    }
   ],
   "source": [
    "res = cur.execute(\"SELECT * FROM movie\")\n",
    "res.fetchall()"
   ]
  },
  {
   "cell_type": "code",
   "execution_count": 18,
   "metadata": {},
   "outputs": [
    {
     "name": "stdout",
     "output_type": "stream",
     "text": [
      "(1971, 'And Now for Something Completely Different')\n",
      "(1975, 'Monty Python and the Holy Grail')\n",
      "(1979, \"Monty Python's Life of Brian\")\n",
      "(1982, 'Monty Python Live at the Hollywood Bowl')\n",
      "(1983, \"Monty Python's The Meaning of Life\")\n"
     ]
    }
   ],
   "source": [
    "for row in cur.execute(\"SELECT year, title FROM movie ORDER BY year\"):\n",
    "    print(row)"
   ]
  },
  {
   "cell_type": "code",
   "execution_count": 20,
   "metadata": {},
   "outputs": [
    {
     "name": "stdout",
     "output_type": "stream",
     "text": [
      "The highest scoring Monty Python movie is 'Monty Python and the Holy Grail', released in 1975\n"
     ]
    }
   ],
   "source": [
    "con.close()\n",
    "new_con = sqlite3.connect(\"tutorial.db\")\n",
    "new_cur = new_con.cursor()\n",
    "res = new_cur.execute(\"SELECT title, year FROM movie ORDER BY score DESC\")\n",
    "title, year = res.fetchone()\n",
    "print(f'The highest scoring Monty Python movie is {title!r}, released in {year}')"
   ]
  }
 ],
 "metadata": {
  "kernelspec": {
   "display_name": ".venv",
   "language": "python",
   "name": "python3"
  },
  "language_info": {
   "codemirror_mode": {
    "name": "ipython",
    "version": 3
   },
   "file_extension": ".py",
   "mimetype": "text/x-python",
   "name": "python",
   "nbconvert_exporter": "python",
   "pygments_lexer": "ipython3",
   "version": "3.11.2"
  },
  "orig_nbformat": 4
 },
 "nbformat": 4,
 "nbformat_minor": 2
}
