{
 "cells": [
  {
   "cell_type": "code",
   "execution_count": 158,
   "metadata": {},
   "outputs": [],
   "source": [
    "import sqlite3\n",
    "import csv\n",
    "import pandas as pd\n",
    "import traceback\n",
    "import sys\n",
    "from datetime import datetime\n",
    "import matplotlib.pyplot as plt"
   ]
  },
  {
   "attachments": {},
   "cell_type": "markdown",
   "metadata": {},
   "source": [
    "# Challenge 1"
   ]
  },
  {
   "cell_type": "code",
   "execution_count": 2,
   "metadata": {},
   "outputs": [],
   "source": [
    "db = \"test3.db\""
   ]
  },
  {
   "attachments": {},
   "cell_type": "markdown",
   "metadata": {},
   "source": [
    "## Creacion de Tablas"
   ]
  },
  {
   "cell_type": "code",
   "execution_count": 3,
   "metadata": {},
   "outputs": [],
   "source": [
    "## CREACION DE TABLAS\n",
    "\n",
    "con = sqlite3.connect(db)\n",
    "cur = con.cursor()\n",
    "\n",
    "\n",
    "try:\n",
    "    sql_file = open(\"createTables.sql\")\n",
    "    sql_as_string = sql_file.read()\n",
    "    cur.executescript(sql_as_string)\n",
    "except sqlite3.Error as er:\n",
    "     print('SQLite error: %s' % (' '.join(er.args)))\n",
    "     print(\"Exception class is: \", er.__class__)\n",
    "     print('SQLite traceback: ')\n",
    "     exc_type, exc_value, exc_tb = sys.exc_info()\n",
    "     print(traceback.format_exception(exc_type, exc_value, exc_tb))\n",
    "     con.close()\n",
    "\n",
    "con.close()"
   ]
  },
  {
   "attachments": {},
   "cell_type": "markdown",
   "metadata": {},
   "source": [
    "## Migrar datos desde archivos CSV"
   ]
  },
  {
   "attachments": {},
   "cell_type": "markdown",
   "metadata": {},
   "source": [
    "### Leer los CVS"
   ]
  },
  {
   "cell_type": "code",
   "execution_count": 4,
   "metadata": {},
   "outputs": [],
   "source": [
    "depts = pd.read_csv('data/departments.csv', header=0)\n",
    "emps = pd.read_csv('data/hired_employees.csv')\n",
    "jobs = pd.read_csv('data/jobs.csv')"
   ]
  },
  {
   "attachments": {},
   "cell_type": "markdown",
   "metadata": {},
   "source": [
    "### Generar Dataframes"
   ]
  },
  {
   "cell_type": "code",
   "execution_count": 5,
   "metadata": {},
   "outputs": [],
   "source": [
    "depts = pd.read_csv('data/departments.csv', header=None)\n",
    "depts.columns = ['id', 'department']\n",
    "\n",
    "jobs = pd.read_csv('data/jobs.csv', header=None)\n",
    "jobs.columns = ['id', 'job']\n",
    "\n",
    "hired_employees = pd.read_csv('data/hired_employees.csv', header=None)\n",
    "hired_employees.columns = ['id', 'name', 'datetime', 'department_id', 'job_id']\n"
   ]
  },
  {
   "attachments": {},
   "cell_type": "markdown",
   "metadata": {},
   "source": [
    "### Llenar las tablas a partir de los DataFrames"
   ]
  },
  {
   "cell_type": "code",
   "execution_count": 6,
   "metadata": {},
   "outputs": [],
   "source": [
    "\n",
    "con = sqlite3.connect(db)\n",
    "\n",
    "try:\n",
    "    depts.to_sql('departments', con, if_exists='replace', index=False)\n",
    "except sqlite3.Error as er:\n",
    "     print('SQLite error: %s' % (' '.join(er.args)))\n",
    "     print(\"Exception class is: \", er.__class__)\n",
    "     print('SQLite traceback: ')\n",
    "     exc_type, exc_value, exc_tb = sys.exc_info()\n",
    "     print(traceback.format_exception(exc_type, exc_value, exc_tb))\n",
    "     \n",
    "try:\n",
    "    jobs.to_sql('jobs', con, if_exists='replace', index=False)\n",
    "except sqlite3.Error as er:\n",
    "     print('SQLite error: %s' % (' '.join(er.args)))\n",
    "     print(\"Exception class is: \", er.__class__)\n",
    "     print('SQLite traceback: ')\n",
    "     exc_type, exc_value, exc_tb = sys.exc_info()\n",
    "     print(traceback.format_exception(exc_type, exc_value, exc_tb))\n",
    "     \n",
    "try:\n",
    "    hired_employees.to_sql('hired_employees', con, if_exists='replace', index=False)\n",
    "except sqlite3.Error as er:\n",
    "     print('SQLite error: %s' % (' '.join(er.args)))\n",
    "     print(\"Exception class is: \", er.__class__)\n",
    "     print('SQLite traceback: ')\n",
    "     exc_type, exc_value, exc_tb = sys.exc_info()\n",
    "     print(traceback.format_exception(exc_type, exc_value, exc_tb))\n",
    "     \n",
    "con.close()"
   ]
  },
  {
   "attachments": {},
   "cell_type": "markdown",
   "metadata": {},
   "source": [
    "## Testing cargando DataFrames desde la Base"
   ]
  },
  {
   "cell_type": "code",
   "execution_count": 7,
   "metadata": {},
   "outputs": [],
   "source": [
    "depts = None\n",
    "jobs = None\n",
    "hired_employees = None"
   ]
  },
  {
   "cell_type": "code",
   "execution_count": 8,
   "metadata": {},
   "outputs": [],
   "source": [
    "con = sqlite3.connect(db)\n",
    "\n",
    "depts = pd.read_sql('SELECT * FROM DEPARTMENTS', con)\n",
    "jobs = pd.read_sql('SELECT * FROM JOBS', con)\n",
    "hired_employees = pd.read_sql('SELECT * FROM HIRED_EMPLOYEES', con)\n",
    "\n",
    "con.close()"
   ]
  },
  {
   "attachments": {},
   "cell_type": "markdown",
   "metadata": {},
   "source": [
    "# Challenge 2"
   ]
  },
  {
   "attachments": {},
   "cell_type": "markdown",
   "metadata": {},
   "source": [
    "### Conseguir la data de la base de datos y pasarla a DataFrames"
   ]
  },
  {
   "cell_type": "code",
   "execution_count": 9,
   "metadata": {},
   "outputs": [],
   "source": [
    "depts = None\n",
    "jobs = None\n",
    "hired_employees = None\n",
    "\n",
    "con = sqlite3.connect(db)\n",
    "\n",
    "depts = pd.read_sql('SELECT * FROM DEPARTMENTS', con)\n",
    "jobs = pd.read_sql('SELECT * FROM JOBS', con)\n",
    "hired_employees = pd.read_sql('SELECT * FROM HIRED_EMPLOYEES', con)\n",
    "\n",
    "con.close()"
   ]
  },
  {
   "cell_type": "code",
   "execution_count": 147,
   "metadata": {},
   "outputs": [
    {
     "data": {
      "text/html": [
       "<div>\n",
       "<style scoped>\n",
       "    .dataframe tbody tr th:only-of-type {\n",
       "        vertical-align: middle;\n",
       "    }\n",
       "\n",
       "    .dataframe tbody tr th {\n",
       "        vertical-align: top;\n",
       "    }\n",
       "\n",
       "    .dataframe thead th {\n",
       "        text-align: right;\n",
       "    }\n",
       "</style>\n",
       "<table border=\"1\" class=\"dataframe\">\n",
       "  <thead>\n",
       "    <tr style=\"text-align: right;\">\n",
       "      <th></th>\n",
       "      <th>id</th>\n",
       "      <th>name</th>\n",
       "      <th>datetime</th>\n",
       "      <th>department_id</th>\n",
       "      <th>job_id</th>\n",
       "    </tr>\n",
       "  </thead>\n",
       "  <tbody>\n",
       "    <tr>\n",
       "      <th>0</th>\n",
       "      <td>1</td>\n",
       "      <td>Harold Vogt</td>\n",
       "      <td>2021-11-07 02:48:42+00:00</td>\n",
       "      <td>2.0</td>\n",
       "      <td>96.0</td>\n",
       "    </tr>\n",
       "    <tr>\n",
       "      <th>1</th>\n",
       "      <td>2</td>\n",
       "      <td>Ty Hofer</td>\n",
       "      <td>2021-05-30 05:43:46+00:00</td>\n",
       "      <td>8.0</td>\n",
       "      <td>NaN</td>\n",
       "    </tr>\n",
       "    <tr>\n",
       "      <th>2</th>\n",
       "      <td>3</td>\n",
       "      <td>Lyman Hadye</td>\n",
       "      <td>2021-09-01 23:27:38+00:00</td>\n",
       "      <td>5.0</td>\n",
       "      <td>52.0</td>\n",
       "    </tr>\n",
       "    <tr>\n",
       "      <th>3</th>\n",
       "      <td>4</td>\n",
       "      <td>Lotti Crowthe</td>\n",
       "      <td>2021-10-01 13:04:21+00:00</td>\n",
       "      <td>12.0</td>\n",
       "      <td>71.0</td>\n",
       "    </tr>\n",
       "    <tr>\n",
       "      <th>4</th>\n",
       "      <td>5</td>\n",
       "      <td>Gretna Lording</td>\n",
       "      <td>2021-10-10 22:22:17+00:00</td>\n",
       "      <td>6.0</td>\n",
       "      <td>80.0</td>\n",
       "    </tr>\n",
       "  </tbody>\n",
       "</table>\n",
       "</div>"
      ],
      "text/plain": [
       "   id            name                  datetime  department_id  job_id\n",
       "0   1     Harold Vogt 2021-11-07 02:48:42+00:00            2.0    96.0\n",
       "1   2        Ty Hofer 2021-05-30 05:43:46+00:00            8.0     NaN\n",
       "2   3     Lyman Hadye 2021-09-01 23:27:38+00:00            5.0    52.0\n",
       "3   4   Lotti Crowthe 2021-10-01 13:04:21+00:00           12.0    71.0\n",
       "4   5  Gretna Lording 2021-10-10 22:22:17+00:00            6.0    80.0"
      ]
     },
     "execution_count": 147,
     "metadata": {},
     "output_type": "execute_result"
    }
   ],
   "source": [
    "#Cheuqeo\n",
    "hired_employees.head()"
   ]
  },
  {
   "cell_type": "code",
   "execution_count": 148,
   "metadata": {},
   "outputs": [],
   "source": [
    "# Convierto a Fecha\n",
    "hired_employees['datetime'] = pd.to_datetime(hired_employees['datetime'])"
   ]
  },
  {
   "cell_type": "code",
   "execution_count": 149,
   "metadata": {},
   "outputs": [
    {
     "data": {
      "text/plain": [
       "department                job                       \n",
       "Support                   Recruiter                     8\n",
       "                          Systems Administrator IV      8\n",
       "Services                  Programmer IV                 8\n",
       "Research and Development  Recruiter                     6\n",
       "Support                   Programmer IV                 6\n",
       "                                                       ..\n",
       "Marketing                 Professor                     1\n",
       "                          Programmer IV                 1\n",
       "                          Quality Control Specialist    1\n",
       "                          Quality Engineer              1\n",
       "Training                  Web Developer III             1\n",
       "Length: 937, dtype: int64"
      ]
     },
     "execution_count": 149,
     "metadata": {},
     "output_type": "execute_result"
    }
   ],
   "source": [
    "\n",
    "# Armo un DF filtrado año 2021 y uniendo todas las tablas para obtener los nobmres de departament y job\n",
    "\n",
    "start = '2021-01-01'\n",
    "end = '2021-12-31'\n",
    "\n",
    "df = hired_employees[(hired_employees['datetime'] >= start) & (hired_employees['datetime'] <= end)]\n",
    "\n",
    "df = df.join(jobs.set_index('id'), on='job_id', how='left').join(depts.set_index('id'), on='department_id', how='left')\n",
    "\n",
    "\n",
    "# chequeo\n",
    "df[['department', 'job']].value_counts()"
   ]
  },
  {
   "attachments": {},
   "cell_type": "markdown",
   "metadata": {},
   "source": [
    "### Requerimiento 1 \n",
    "Number of employees hired for each job and department in 2021 divided by quarter. The table mus be ordered by department and job"
   ]
  },
  {
   "cell_type": "code",
   "execution_count": 172,
   "metadata": {},
   "outputs": [
    {
     "name": "stderr",
     "output_type": "stream",
     "text": [
      "D:\\Users\\juanp_schamun\\AppData\\Local\\Temp\\ipykernel_39228\\86219272.py:2: UserWarning: Converting to PeriodArray/Index representation will drop timezone information.\n",
      "  resumen = pd.pivot_table(df, index=['department','job'], values='id' , aggfunc='count', columns=df['datetime'].dt.to_period('Q'), fill_value=0)\n"
     ]
    },
    {
     "data": {
      "text/html": [
       "<div>\n",
       "<style scoped>\n",
       "    .dataframe tbody tr th:only-of-type {\n",
       "        vertical-align: middle;\n",
       "    }\n",
       "\n",
       "    .dataframe tbody tr th {\n",
       "        vertical-align: top;\n",
       "    }\n",
       "\n",
       "    .dataframe thead th {\n",
       "        text-align: right;\n",
       "    }\n",
       "</style>\n",
       "<table border=\"1\" class=\"dataframe\">\n",
       "  <thead>\n",
       "    <tr style=\"text-align: right;\">\n",
       "      <th></th>\n",
       "      <th>datetime</th>\n",
       "      <th>2021Q1</th>\n",
       "      <th>2021Q2</th>\n",
       "      <th>2021Q3</th>\n",
       "      <th>2021Q4</th>\n",
       "    </tr>\n",
       "    <tr>\n",
       "      <th>department</th>\n",
       "      <th>job</th>\n",
       "      <th></th>\n",
       "      <th></th>\n",
       "      <th></th>\n",
       "      <th></th>\n",
       "    </tr>\n",
       "  </thead>\n",
       "  <tbody>\n",
       "    <tr>\n",
       "      <th rowspan=\"5\" valign=\"top\">Accounting</th>\n",
       "      <th>Account Representative IV</th>\n",
       "      <td>1</td>\n",
       "      <td>0</td>\n",
       "      <td>0</td>\n",
       "      <td>0</td>\n",
       "    </tr>\n",
       "    <tr>\n",
       "      <th>Actuary</th>\n",
       "      <td>0</td>\n",
       "      <td>1</td>\n",
       "      <td>0</td>\n",
       "      <td>0</td>\n",
       "    </tr>\n",
       "    <tr>\n",
       "      <th>Analyst Programmer</th>\n",
       "      <td>0</td>\n",
       "      <td>0</td>\n",
       "      <td>1</td>\n",
       "      <td>0</td>\n",
       "    </tr>\n",
       "    <tr>\n",
       "      <th>Budget/Accounting Analyst III</th>\n",
       "      <td>0</td>\n",
       "      <td>1</td>\n",
       "      <td>0</td>\n",
       "      <td>0</td>\n",
       "    </tr>\n",
       "    <tr>\n",
       "      <th>Cost Accountant</th>\n",
       "      <td>0</td>\n",
       "      <td>1</td>\n",
       "      <td>0</td>\n",
       "      <td>0</td>\n",
       "    </tr>\n",
       "    <tr>\n",
       "      <th>...</th>\n",
       "      <th>...</th>\n",
       "      <td>...</td>\n",
       "      <td>...</td>\n",
       "      <td>...</td>\n",
       "      <td>...</td>\n",
       "    </tr>\n",
       "    <tr>\n",
       "      <th rowspan=\"5\" valign=\"top\">Training</th>\n",
       "      <th>Teacher</th>\n",
       "      <td>0</td>\n",
       "      <td>2</td>\n",
       "      <td>0</td>\n",
       "      <td>0</td>\n",
       "    </tr>\n",
       "    <tr>\n",
       "      <th>Technical Writer</th>\n",
       "      <td>0</td>\n",
       "      <td>0</td>\n",
       "      <td>1</td>\n",
       "      <td>0</td>\n",
       "    </tr>\n",
       "    <tr>\n",
       "      <th>VP Product Management</th>\n",
       "      <td>1</td>\n",
       "      <td>0</td>\n",
       "      <td>0</td>\n",
       "      <td>0</td>\n",
       "    </tr>\n",
       "    <tr>\n",
       "      <th>VP Quality Control</th>\n",
       "      <td>0</td>\n",
       "      <td>1</td>\n",
       "      <td>0</td>\n",
       "      <td>0</td>\n",
       "    </tr>\n",
       "    <tr>\n",
       "      <th>Web Developer III</th>\n",
       "      <td>0</td>\n",
       "      <td>1</td>\n",
       "      <td>0</td>\n",
       "      <td>0</td>\n",
       "    </tr>\n",
       "  </tbody>\n",
       "</table>\n",
       "<p>937 rows × 4 columns</p>\n",
       "</div>"
      ],
      "text/plain": [
       "datetime                                  2021Q1  2021Q2  2021Q3  2021Q4\n",
       "department job                                                          \n",
       "Accounting Account Representative IV           1       0       0       0\n",
       "           Actuary                             0       1       0       0\n",
       "           Analyst Programmer                  0       0       1       0\n",
       "           Budget/Accounting Analyst III       0       1       0       0\n",
       "           Cost Accountant                     0       1       0       0\n",
       "...                                          ...     ...     ...     ...\n",
       "Training   Teacher                             0       2       0       0\n",
       "           Technical Writer                    0       0       1       0\n",
       "           VP Product Management               1       0       0       0\n",
       "           VP Quality Control                  0       1       0       0\n",
       "           Web Developer III                   0       1       0       0\n",
       "\n",
       "[937 rows x 4 columns]"
      ]
     },
     "execution_count": 172,
     "metadata": {},
     "output_type": "execute_result"
    }
   ],
   "source": [
    "# Acá se arma el resumen pedido\n",
    "resumen = pd.pivot_table(df, index=['department','job'], values='id' , aggfunc='count', columns=df['datetime'].dt.to_period('Q'), fill_value=0)\n",
    "resumen"
   ]
  },
  {
   "cell_type": "code",
   "execution_count": 145,
   "metadata": {},
   "outputs": [],
   "source": [
    "# Exportar a CSV\n",
    "resumen.to_csv(r'resumen.csv', index=True)"
   ]
  },
  {
   "attachments": {},
   "cell_type": "markdown",
   "metadata": {},
   "source": [
    "### Requerimiento 2\n",
    "List of ids, name and number of employees hired of each department that hired more employees tahn de mean of employees hired in 2021 for all the departments, ordered by then umber of employees hired  (descending)"
   ]
  },
  {
   "cell_type": "code",
   "execution_count": 169,
   "metadata": {},
   "outputs": [
    {
     "data": {
      "text/plain": [
       "<Axes: >"
      ]
     },
     "execution_count": 169,
     "metadata": {},
     "output_type": "execute_result"
    },
    {
     "data": {
      "image/png": "[encoded data removed]",
      "text/plain": [
       "<Figure size 640x480 with 1 Axes>"
      ]
     },
     "metadata": {},
     "output_type": "display_data"
    }
   ],
   "source": [
    "df['department'].value_counts().plot(kind='bar')"
   ]
  },
  {
   "cell_type": "code",
   "execution_count": 179,
   "metadata": {},
   "outputs": [
    {
     "data": {
      "text/html": [
       "<div>\n",
       "<style scoped>\n",
       "    .dataframe tbody tr th:only-of-type {\n",
       "        vertical-align: middle;\n",
       "    }\n",
       "\n",
       "    .dataframe tbody tr th {\n",
       "        vertical-align: top;\n",
       "    }\n",
       "\n",
       "    .dataframe thead th {\n",
       "        text-align: right;\n",
       "    }\n",
       "</style>\n",
       "<table border=\"1\" class=\"dataframe\">\n",
       "  <thead>\n",
       "    <tr style=\"text-align: right;\">\n",
       "      <th></th>\n",
       "      <th>id</th>\n",
       "      <th>name</th>\n",
       "      <th>datetime</th>\n",
       "      <th>department_id</th>\n",
       "      <th>job_id</th>\n",
       "      <th>job</th>\n",
       "    </tr>\n",
       "    <tr>\n",
       "      <th>department</th>\n",
       "      <th></th>\n",
       "      <th></th>\n",
       "      <th></th>\n",
       "      <th></th>\n",
       "      <th></th>\n",
       "      <th></th>\n",
       "    </tr>\n",
       "  </thead>\n",
       "  <tbody>\n",
       "    <tr>\n",
       "      <th>Accounting</th>\n",
       "      <td>37</td>\n",
       "      <td>37</td>\n",
       "      <td>37</td>\n",
       "      <td>37</td>\n",
       "      <td>37</td>\n",
       "      <td>37</td>\n",
       "    </tr>\n",
       "    <tr>\n",
       "      <th>Business Development</th>\n",
       "      <td>187</td>\n",
       "      <td>185</td>\n",
       "      <td>187</td>\n",
       "      <td>187</td>\n",
       "      <td>187</td>\n",
       "      <td>187</td>\n",
       "    </tr>\n",
       "    <tr>\n",
       "      <th>Engineering</th>\n",
       "      <td>208</td>\n",
       "      <td>206</td>\n",
       "      <td>208</td>\n",
       "      <td>208</td>\n",
       "      <td>207</td>\n",
       "      <td>207</td>\n",
       "    </tr>\n",
       "    <tr>\n",
       "      <th>Human Resources</th>\n",
       "      <td>204</td>\n",
       "      <td>201</td>\n",
       "      <td>204</td>\n",
       "      <td>204</td>\n",
       "      <td>204</td>\n",
       "      <td>204</td>\n",
       "    </tr>\n",
       "    <tr>\n",
       "      <th>Legal</th>\n",
       "      <td>57</td>\n",
       "      <td>57</td>\n",
       "      <td>57</td>\n",
       "      <td>57</td>\n",
       "      <td>56</td>\n",
       "      <td>56</td>\n",
       "    </tr>\n",
       "    <tr>\n",
       "      <th>Marketing</th>\n",
       "      <td>143</td>\n",
       "      <td>143</td>\n",
       "      <td>143</td>\n",
       "      <td>143</td>\n",
       "      <td>142</td>\n",
       "      <td>142</td>\n",
       "    </tr>\n",
       "    <tr>\n",
       "      <th>Product Management</th>\n",
       "      <td>49</td>\n",
       "      <td>48</td>\n",
       "      <td>49</td>\n",
       "      <td>49</td>\n",
       "      <td>49</td>\n",
       "      <td>49</td>\n",
       "    </tr>\n",
       "    <tr>\n",
       "      <th>Research and Development</th>\n",
       "      <td>150</td>\n",
       "      <td>149</td>\n",
       "      <td>150</td>\n",
       "      <td>150</td>\n",
       "      <td>148</td>\n",
       "      <td>148</td>\n",
       "    </tr>\n",
       "    <tr>\n",
       "      <th>Sales</th>\n",
       "      <td>94</td>\n",
       "      <td>93</td>\n",
       "      <td>94</td>\n",
       "      <td>94</td>\n",
       "      <td>94</td>\n",
       "      <td>94</td>\n",
       "    </tr>\n",
       "    <tr>\n",
       "      <th>Services</th>\n",
       "      <td>204</td>\n",
       "      <td>202</td>\n",
       "      <td>204</td>\n",
       "      <td>204</td>\n",
       "      <td>202</td>\n",
       "      <td>202</td>\n",
       "    </tr>\n",
       "    <tr>\n",
       "      <th>Support</th>\n",
       "      <td>221</td>\n",
       "      <td>220</td>\n",
       "      <td>221</td>\n",
       "      <td>221</td>\n",
       "      <td>217</td>\n",
       "      <td>217</td>\n",
       "    </tr>\n",
       "    <tr>\n",
       "      <th>Training</th>\n",
       "      <td>114</td>\n",
       "      <td>111</td>\n",
       "      <td>114</td>\n",
       "      <td>114</td>\n",
       "      <td>114</td>\n",
       "      <td>114</td>\n",
       "    </tr>\n",
       "  </tbody>\n",
       "</table>\n",
       "</div>"
      ],
      "text/plain": [
       "                           id  name  datetime  department_id  job_id  job\n",
       "department                                                               \n",
       "Accounting                 37    37        37             37      37   37\n",
       "Business Development      187   185       187            187     187  187\n",
       "Engineering               208   206       208            208     207  207\n",
       "Human Resources           204   201       204            204     204  204\n",
       "Legal                      57    57        57             57      56   56\n",
       "Marketing                 143   143       143            143     142  142\n",
       "Product Management         49    48        49             49      49   49\n",
       "Research and Development  150   149       150            150     148  148\n",
       "Sales                      94    93        94             94      94   94\n",
       "Services                  204   202       204            204     202  202\n",
       "Support                   221   220       221            221     217  217\n",
       "Training                  114   111       114            114     114  114"
      ]
     },
     "execution_count": 179,
     "metadata": {},
     "output_type": "execute_result"
    }
   ],
   "source": [
    "df.groupby(by='department',).count()"
   ]
  }
 ],
 "metadata": {
  "kernelspec": {
   "display_name": ".venv",
   "language": "python",
   "name": "python3"
  },
  "language_info": {
   "codemirror_mode": {
    "name": "ipython",
    "version": 3
   },
   "file_extension": ".py",
   "mimetype": "text/x-python",
   "name": "python",
   "nbconvert_exporter": "python",
   "pygments_lexer": "ipython3",
   "version": "3.11.2"
  },
  "orig_nbformat": 4
 },
 "nbformat": 4,
 "nbformat_minor": 2
}
