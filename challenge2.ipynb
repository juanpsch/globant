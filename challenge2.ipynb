{
 "cells": [
  {
   "cell_type": "code",
   "execution_count": 1,
   "metadata": {},
   "outputs": [],
   "source": [
    "import sqlite3\n",
    "import csv\n",
    "import pandas as pd\n",
    "import traceback\n",
    "import sys\n",
    "from datetime import datetime\n",
    "import matplotlib.pyplot as plt"
   ]
  },
  {
   "attachments": {},
   "cell_type": "markdown",
   "metadata": {},
   "source": [
    "# Challenge 2"
   ]
  },
  {
   "cell_type": "code",
   "execution_count": 2,
   "metadata": {},
   "outputs": [],
   "source": [
    "db = \"challenge.db\""
   ]
  },
  {
   "attachments": {},
   "cell_type": "markdown",
   "metadata": {},
   "source": [
    "### Conseguir la data de la base de datos y pasarla a DataFrames"
   ]
  },
  {
   "cell_type": "code",
   "execution_count": 3,
   "metadata": {},
   "outputs": [],
   "source": [
    "depts = None\n",
    "jobs = None\n",
    "hired_employees = None\n",
    "\n",
    "con = sqlite3.connect(db)\n",
    "\n",
    "depts = pd.read_sql('SELECT * FROM DEPARTMENTS', con)\n",
    "jobs = pd.read_sql('SELECT * FROM JOBS', con)\n",
    "hired_employees = pd.read_sql('SELECT * FROM HIRED_EMPLOYEES', con)\n",
    "\n",
    "con.close()"
   ]
  },
  {
   "cell_type": "code",
   "execution_count": 4,
   "metadata": {},
   "outputs": [
    {
     "data": {
      "text/html": [
       "<div>\n",
       "<style scoped>\n",
       "    .dataframe tbody tr th:only-of-type {\n",
       "        vertical-align: middle;\n",
       "    }\n",
       "\n",
       "    .dataframe tbody tr th {\n",
       "        vertical-align: top;\n",
       "    }\n",
       "\n",
       "    .dataframe thead th {\n",
       "        text-align: right;\n",
       "    }\n",
       "</style>\n",
       "<table border=\"1\" class=\"dataframe\">\n",
       "  <thead>\n",
       "    <tr style=\"text-align: right;\">\n",
       "      <th></th>\n",
       "      <th>id</th>\n",
       "      <th>name</th>\n",
       "      <th>datetime</th>\n",
       "      <th>department_id</th>\n",
       "      <th>job_id</th>\n",
       "    </tr>\n",
       "  </thead>\n",
       "  <tbody>\n",
       "    <tr>\n",
       "      <th>0</th>\n",
       "      <td>1</td>\n",
       "      <td>Harold Vogt</td>\n",
       "      <td>2021-11-07T02:48:42Z</td>\n",
       "      <td>2.0</td>\n",
       "      <td>96.0</td>\n",
       "    </tr>\n",
       "    <tr>\n",
       "      <th>1</th>\n",
       "      <td>2</td>\n",
       "      <td>Ty Hofer</td>\n",
       "      <td>2021-05-30T05:43:46Z</td>\n",
       "      <td>8.0</td>\n",
       "      <td>NaN</td>\n",
       "    </tr>\n",
       "    <tr>\n",
       "      <th>2</th>\n",
       "      <td>3</td>\n",
       "      <td>Lyman Hadye</td>\n",
       "      <td>2021-09-01T23:27:38Z</td>\n",
       "      <td>5.0</td>\n",
       "      <td>52.0</td>\n",
       "    </tr>\n",
       "    <tr>\n",
       "      <th>3</th>\n",
       "      <td>4</td>\n",
       "      <td>Lotti Crowthe</td>\n",
       "      <td>2021-10-01T13:04:21Z</td>\n",
       "      <td>12.0</td>\n",
       "      <td>71.0</td>\n",
       "    </tr>\n",
       "    <tr>\n",
       "      <th>4</th>\n",
       "      <td>5</td>\n",
       "      <td>Gretna Lording</td>\n",
       "      <td>2021-10-10T22:22:17Z</td>\n",
       "      <td>6.0</td>\n",
       "      <td>80.0</td>\n",
       "    </tr>\n",
       "  </tbody>\n",
       "</table>\n",
       "</div>"
      ],
      "text/plain": [
       "   id            name              datetime  department_id  job_id\n",
       "0   1     Harold Vogt  2021-11-07T02:48:42Z            2.0    96.0\n",
       "1   2        Ty Hofer  2021-05-30T05:43:46Z            8.0     NaN\n",
       "2   3     Lyman Hadye  2021-09-01T23:27:38Z            5.0    52.0\n",
       "3   4   Lotti Crowthe  2021-10-01T13:04:21Z           12.0    71.0\n",
       "4   5  Gretna Lording  2021-10-10T22:22:17Z            6.0    80.0"
      ]
     },
     "execution_count": 4,
     "metadata": {},
     "output_type": "execute_result"
    }
   ],
   "source": [
    "#Chequeo\n",
    "hired_employees.head()"
   ]
  },
  {
   "cell_type": "code",
   "execution_count": 5,
   "metadata": {},
   "outputs": [],
   "source": [
    "# Convierto a Fecha\n",
    "hired_employees['datetime'] = pd.to_datetime(hired_employees['datetime'])"
   ]
  },
  {
   "cell_type": "code",
   "execution_count": 6,
   "metadata": {},
   "outputs": [
    {
     "data": {
      "text/plain": [
       "department                job                       \n",
       "Support                   Recruiter                     8\n",
       "                          Systems Administrator IV      8\n",
       "Services                  Programmer IV                 8\n",
       "Research and Development  Recruiter                     6\n",
       "Support                   Programmer IV                 6\n",
       "                                                       ..\n",
       "Marketing                 Professor                     1\n",
       "                          Programmer IV                 1\n",
       "                          Quality Control Specialist    1\n",
       "                          Quality Engineer              1\n",
       "Training                  Web Developer III             1\n",
       "Length: 937, dtype: int64"
      ]
     },
     "execution_count": 6,
     "metadata": {},
     "output_type": "execute_result"
    }
   ],
   "source": [
    "\n",
    "# Armo un DF filtrado año 2021 y uniendo todas las tablas para obtener los nobmres de departament y job\n",
    "\n",
    "start = '2021-01-01'\n",
    "end = '2021-12-31'\n",
    "\n",
    "df = hired_employees[(hired_employees['datetime'] >= start) & (hired_employees['datetime'] <= end)]\n",
    "\n",
    "df = df.join(jobs.set_index('id'), on='job_id', how='left').join(depts.set_index('id'), on='department_id', how='left')\n",
    "\n",
    "\n",
    "# chequeo\n",
    "df[['department', 'job']].value_counts()"
   ]
  },
  {
   "attachments": {},
   "cell_type": "markdown",
   "metadata": {},
   "source": [
    "### Requerimiento 1 \n",
    "Number of employees hired for each job and department in 2021 divided by quarter. The table mus be ordered by department and job"
   ]
  },
  {
   "cell_type": "code",
   "execution_count": 7,
   "metadata": {},
   "outputs": [
    {
     "name": "stderr",
     "output_type": "stream",
     "text": [
      "D:\\Users\\juanp_schamun\\AppData\\Local\\Temp\\ipykernel_8792\\609731053.py:2: UserWarning: Converting to PeriodArray/Index representation will drop timezone information.\n",
      "  resumen1 = pd.pivot_table(df, index=['department','job'], values='id' , aggfunc='count', columns=df['datetime'].dt.to_period('Q'), fill_value=0)\n"
     ]
    },
    {
     "data": {
      "text/html": [
       "<div>\n",
       "<style scoped>\n",
       "    .dataframe tbody tr th:only-of-type {\n",
       "        vertical-align: middle;\n",
       "    }\n",
       "\n",
       "    .dataframe tbody tr th {\n",
       "        vertical-align: top;\n",
       "    }\n",
       "\n",
       "    .dataframe thead th {\n",
       "        text-align: right;\n",
       "    }\n",
       "</style>\n",
       "<table border=\"1\" class=\"dataframe\">\n",
       "  <thead>\n",
       "    <tr style=\"text-align: right;\">\n",
       "      <th></th>\n",
       "      <th>datetime</th>\n",
       "      <th>2021Q1</th>\n",
       "      <th>2021Q2</th>\n",
       "      <th>2021Q3</th>\n",
       "      <th>2021Q4</th>\n",
       "    </tr>\n",
       "    <tr>\n",
       "      <th>department</th>\n",
       "      <th>job</th>\n",
       "      <th></th>\n",
       "      <th></th>\n",
       "      <th></th>\n",
       "      <th></th>\n",
       "    </tr>\n",
       "  </thead>\n",
       "  <tbody>\n",
       "    <tr>\n",
       "      <th rowspan=\"5\" valign=\"top\">Accounting</th>\n",
       "      <th>Account Representative IV</th>\n",
       "      <td>1</td>\n",
       "      <td>0</td>\n",
       "      <td>0</td>\n",
       "      <td>0</td>\n",
       "    </tr>\n",
       "    <tr>\n",
       "      <th>Actuary</th>\n",
       "      <td>0</td>\n",
       "      <td>1</td>\n",
       "      <td>0</td>\n",
       "      <td>0</td>\n",
       "    </tr>\n",
       "    <tr>\n",
       "      <th>Analyst Programmer</th>\n",
       "      <td>0</td>\n",
       "      <td>0</td>\n",
       "      <td>1</td>\n",
       "      <td>0</td>\n",
       "    </tr>\n",
       "    <tr>\n",
       "      <th>Budget/Accounting Analyst III</th>\n",
       "      <td>0</td>\n",
       "      <td>1</td>\n",
       "      <td>0</td>\n",
       "      <td>0</td>\n",
       "    </tr>\n",
       "    <tr>\n",
       "      <th>Cost Accountant</th>\n",
       "      <td>0</td>\n",
       "      <td>1</td>\n",
       "      <td>0</td>\n",
       "      <td>0</td>\n",
       "    </tr>\n",
       "    <tr>\n",
       "      <th>...</th>\n",
       "      <th>...</th>\n",
       "      <td>...</td>\n",
       "      <td>...</td>\n",
       "      <td>...</td>\n",
       "      <td>...</td>\n",
       "    </tr>\n",
       "    <tr>\n",
       "      <th rowspan=\"5\" valign=\"top\">Training</th>\n",
       "      <th>Teacher</th>\n",
       "      <td>0</td>\n",
       "      <td>2</td>\n",
       "      <td>0</td>\n",
       "      <td>0</td>\n",
       "    </tr>\n",
       "    <tr>\n",
       "      <th>Technical Writer</th>\n",
       "      <td>0</td>\n",
       "      <td>0</td>\n",
       "      <td>1</td>\n",
       "      <td>0</td>\n",
       "    </tr>\n",
       "    <tr>\n",
       "      <th>VP Product Management</th>\n",
       "      <td>1</td>\n",
       "      <td>0</td>\n",
       "      <td>0</td>\n",
       "      <td>0</td>\n",
       "    </tr>\n",
       "    <tr>\n",
       "      <th>VP Quality Control</th>\n",
       "      <td>0</td>\n",
       "      <td>1</td>\n",
       "      <td>0</td>\n",
       "      <td>0</td>\n",
       "    </tr>\n",
       "    <tr>\n",
       "      <th>Web Developer III</th>\n",
       "      <td>0</td>\n",
       "      <td>1</td>\n",
       "      <td>0</td>\n",
       "      <td>0</td>\n",
       "    </tr>\n",
       "  </tbody>\n",
       "</table>\n",
       "<p>937 rows × 4 columns</p>\n",
       "</div>"
      ],
      "text/plain": [
       "datetime                                  2021Q1  2021Q2  2021Q3  2021Q4\n",
       "department job                                                          \n",
       "Accounting Account Representative IV           1       0       0       0\n",
       "           Actuary                             0       1       0       0\n",
       "           Analyst Programmer                  0       0       1       0\n",
       "           Budget/Accounting Analyst III       0       1       0       0\n",
       "           Cost Accountant                     0       1       0       0\n",
       "...                                          ...     ...     ...     ...\n",
       "Training   Teacher                             0       2       0       0\n",
       "           Technical Writer                    0       0       1       0\n",
       "           VP Product Management               1       0       0       0\n",
       "           VP Quality Control                  0       1       0       0\n",
       "           Web Developer III                   0       1       0       0\n",
       "\n",
       "[937 rows x 4 columns]"
      ]
     },
     "execution_count": 7,
     "metadata": {},
     "output_type": "execute_result"
    }
   ],
   "source": [
    "# Acá se arma el resumen pedido\n",
    "resumen1 = pd.pivot_table(df, index=['department','job'], values='id' , aggfunc='count', columns=df['datetime'].dt.to_period('Q'), fill_value=0)\n",
    "resumen1"
   ]
  },
  {
   "cell_type": "code",
   "execution_count": 8,
   "metadata": {},
   "outputs": [],
   "source": [
    "# Exportar a CSV\n",
    "resumen1.to_csv(r'resumen1.csv', index=True)"
   ]
  },
  {
   "attachments": {},
   "cell_type": "markdown",
   "metadata": {},
   "source": [
    "### Requerimiento 2\n",
    "List of ids, name and number of employees hired of each department that hired more employees than de mean of employees hired in 2021 for all the departments, ordered by the number of employees hired  (descending)"
   ]
  },
  {
   "cell_type": "code",
   "execution_count": 9,
   "metadata": {},
   "outputs": [
    {
     "name": "stdout",
     "output_type": "stream",
     "text": [
      "Contrataciones por departamento \n",
      "\n",
      "Support                     221\n",
      "Engineering                 208\n",
      "Human Resources             204\n",
      "Services                    204\n",
      "Business Development        187\n",
      "Research and Development    150\n",
      "Marketing                   143\n",
      "Training                    114\n",
      "Sales                        94\n",
      "Legal                        57\n",
      "Product Management           49\n",
      "Accounting                   37\n",
      "Name: department, dtype: int64\n"
     ]
    }
   ],
   "source": [
    "pordept = df['department'].value_counts()\n",
    "print('Contrataciones por departamento \\n\\n{}'.format(pordept))\n"
   ]
  },
  {
   "cell_type": "code",
   "execution_count": 10,
   "metadata": {},
   "outputs": [
    {
     "name": "stdout",
     "output_type": "stream",
     "text": [
      "La media por departamento es 139.0\n"
     ]
    }
   ],
   "source": [
    "medxdep = df['department'].value_counts().mean()\n",
    "print('La media por departamento es {}'.format(medxdep))"
   ]
  },
  {
   "cell_type": "code",
   "execution_count": 11,
   "metadata": {},
   "outputs": [
    {
     "name": "stdout",
     "output_type": "stream",
     "text": [
      "Los Departamentos que superan la media por departamento en 2021 son:\n",
      "['Support', 'Engineering', 'Human Resources', 'Services', 'Business Development', 'Research and Development', 'Marketing']\n"
     ]
    }
   ],
   "source": [
    "depsSupMedia = df['department'].value_counts()[df['department'].value_counts() > df['department'].value_counts().mean()].index\n",
    "\n",
    "print('Los Departamentos que superan la media por departamento en 2021 son:\\n{}'.format(depsSupMedia.to_list()))\n"
   ]
  },
  {
   "cell_type": "code",
   "execution_count": 12,
   "metadata": {},
   "outputs": [
    {
     "data": {
      "text/plain": [
       "[]"
      ]
     },
     "execution_count": 12,
     "metadata": {},
     "output_type": "execute_result"
    },
    {
     "data": {
      "image/png": "[encoded data removed]",
      "text/plain": [
       "<Figure size 640x480 with 1 Axes>"
      ]
     },
     "metadata": {},
     "output_type": "display_data"
    }
   ],
   "source": [
    "ax = df['department'].value_counts().plot(kind='bar')\n",
    "ax.set(xlabel='Departamento', ylabel='Cantidad de contrataciones')\n",
    "ax.axhline(df['department'].value_counts().mean(), color ='red')\n",
    "ax.plot()"
   ]
  },
  {
   "cell_type": "code",
   "execution_count": 14,
   "metadata": {},
   "outputs": [
    {
     "data": {
      "text/html": [
       "<div>\n",
       "<style scoped>\n",
       "    .dataframe tbody tr th:only-of-type {\n",
       "        vertical-align: middle;\n",
       "    }\n",
       "\n",
       "    .dataframe tbody tr th {\n",
       "        vertical-align: top;\n",
       "    }\n",
       "\n",
       "    .dataframe thead th {\n",
       "        text-align: right;\n",
       "    }\n",
       "</style>\n",
       "<table border=\"1\" class=\"dataframe\">\n",
       "  <thead>\n",
       "    <tr style=\"text-align: right;\">\n",
       "      <th></th>\n",
       "      <th>department</th>\n",
       "      <th>contr_por_dept</th>\n",
       "    </tr>\n",
       "  </thead>\n",
       "  <tbody>\n",
       "    <tr>\n",
       "      <th>0</th>\n",
       "      <td>Support</td>\n",
       "      <td>221</td>\n",
       "    </tr>\n",
       "    <tr>\n",
       "      <th>1</th>\n",
       "      <td>Engineering</td>\n",
       "      <td>208</td>\n",
       "    </tr>\n",
       "    <tr>\n",
       "      <th>2</th>\n",
       "      <td>Human Resources</td>\n",
       "      <td>204</td>\n",
       "    </tr>\n",
       "    <tr>\n",
       "      <th>3</th>\n",
       "      <td>Services</td>\n",
       "      <td>204</td>\n",
       "    </tr>\n",
       "    <tr>\n",
       "      <th>4</th>\n",
       "      <td>Business Development</td>\n",
       "      <td>187</td>\n",
       "    </tr>\n",
       "    <tr>\n",
       "      <th>5</th>\n",
       "      <td>Research and Development</td>\n",
       "      <td>150</td>\n",
       "    </tr>\n",
       "    <tr>\n",
       "      <th>6</th>\n",
       "      <td>Marketing</td>\n",
       "      <td>143</td>\n",
       "    </tr>\n",
       "    <tr>\n",
       "      <th>7</th>\n",
       "      <td>Training</td>\n",
       "      <td>114</td>\n",
       "    </tr>\n",
       "    <tr>\n",
       "      <th>8</th>\n",
       "      <td>Sales</td>\n",
       "      <td>94</td>\n",
       "    </tr>\n",
       "    <tr>\n",
       "      <th>9</th>\n",
       "      <td>Legal</td>\n",
       "      <td>57</td>\n",
       "    </tr>\n",
       "    <tr>\n",
       "      <th>10</th>\n",
       "      <td>Product Management</td>\n",
       "      <td>49</td>\n",
       "    </tr>\n",
       "    <tr>\n",
       "      <th>11</th>\n",
       "      <td>Accounting</td>\n",
       "      <td>37</td>\n",
       "    </tr>\n",
       "  </tbody>\n",
       "</table>\n",
       "</div>"
      ],
      "text/plain": [
       "                  department  contr_por_dept\n",
       "0                    Support             221\n",
       "1                Engineering             208\n",
       "2            Human Resources             204\n",
       "3                   Services             204\n",
       "4       Business Development             187\n",
       "5   Research and Development             150\n",
       "6                  Marketing             143\n",
       "7                   Training             114\n",
       "8                      Sales              94\n",
       "9                      Legal              57\n",
       "10        Product Management              49\n",
       "11                Accounting              37"
      ]
     },
     "execution_count": 14,
     "metadata": {},
     "output_type": "execute_result"
    }
   ],
   "source": [
    "dfdept = pordept.reset_index().rename(columns={'index': \"department\", 'department': \"contr_por_dept\"})\n",
    "dfdept"
   ]
  },
  {
   "cell_type": "code",
   "execution_count": 15,
   "metadata": {},
   "outputs": [
    {
     "data": {
      "text/html": [
       "<div>\n",
       "<style scoped>\n",
       "    .dataframe tbody tr th:only-of-type {\n",
       "        vertical-align: middle;\n",
       "    }\n",
       "\n",
       "    .dataframe tbody tr th {\n",
       "        vertical-align: top;\n",
       "    }\n",
       "\n",
       "    .dataframe thead th {\n",
       "        text-align: right;\n",
       "    }\n",
       "</style>\n",
       "<table border=\"1\" class=\"dataframe\">\n",
       "  <thead>\n",
       "    <tr style=\"text-align: right;\">\n",
       "      <th></th>\n",
       "      <th>id</th>\n",
       "      <th>name</th>\n",
       "      <th>department</th>\n",
       "      <th>contr_por_dept</th>\n",
       "    </tr>\n",
       "  </thead>\n",
       "  <tbody>\n",
       "    <tr>\n",
       "      <th>1</th>\n",
       "      <td>2</td>\n",
       "      <td>Ty Hofer</td>\n",
       "      <td>Support</td>\n",
       "      <td>221</td>\n",
       "    </tr>\n",
       "    <tr>\n",
       "      <th>691</th>\n",
       "      <td>692</td>\n",
       "      <td>Algernon McCraw</td>\n",
       "      <td>Support</td>\n",
       "      <td>221</td>\n",
       "    </tr>\n",
       "    <tr>\n",
       "      <th>1393</th>\n",
       "      <td>1394</td>\n",
       "      <td>Latrena Glasscock</td>\n",
       "      <td>Support</td>\n",
       "      <td>221</td>\n",
       "    </tr>\n",
       "    <tr>\n",
       "      <th>729</th>\n",
       "      <td>730</td>\n",
       "      <td>Rodolphe Assiter</td>\n",
       "      <td>Support</td>\n",
       "      <td>221</td>\n",
       "    </tr>\n",
       "    <tr>\n",
       "      <th>1704</th>\n",
       "      <td>1705</td>\n",
       "      <td>Bonita Ortiga</td>\n",
       "      <td>Support</td>\n",
       "      <td>221</td>\n",
       "    </tr>\n",
       "    <tr>\n",
       "      <th>...</th>\n",
       "      <td>...</td>\n",
       "      <td>...</td>\n",
       "      <td>...</td>\n",
       "      <td>...</td>\n",
       "    </tr>\n",
       "    <tr>\n",
       "      <th>242</th>\n",
       "      <td>243</td>\n",
       "      <td>Juliet MacGebenay</td>\n",
       "      <td>Marketing</td>\n",
       "      <td>143</td>\n",
       "    </tr>\n",
       "    <tr>\n",
       "      <th>240</th>\n",
       "      <td>241</td>\n",
       "      <td>Benedetto Ropking</td>\n",
       "      <td>Marketing</td>\n",
       "      <td>143</td>\n",
       "    </tr>\n",
       "    <tr>\n",
       "      <th>742</th>\n",
       "      <td>743</td>\n",
       "      <td>Georg Prince</td>\n",
       "      <td>Marketing</td>\n",
       "      <td>143</td>\n",
       "    </tr>\n",
       "    <tr>\n",
       "      <th>1152</th>\n",
       "      <td>1153</td>\n",
       "      <td>Truman Carde</td>\n",
       "      <td>Marketing</td>\n",
       "      <td>143</td>\n",
       "    </tr>\n",
       "    <tr>\n",
       "      <th>948</th>\n",
       "      <td>949</td>\n",
       "      <td>Guinevere Spence</td>\n",
       "      <td>Marketing</td>\n",
       "      <td>143</td>\n",
       "    </tr>\n",
       "  </tbody>\n",
       "</table>\n",
       "<p>1317 rows × 4 columns</p>\n",
       "</div>"
      ],
      "text/plain": [
       "        id               name department  contr_por_dept\n",
       "1        2           Ty Hofer    Support             221\n",
       "691    692    Algernon McCraw    Support             221\n",
       "1393  1394  Latrena Glasscock    Support             221\n",
       "729    730   Rodolphe Assiter    Support             221\n",
       "1704  1705      Bonita Ortiga    Support             221\n",
       "...    ...                ...        ...             ...\n",
       "242    243  Juliet MacGebenay  Marketing             143\n",
       "240    241  Benedetto Ropking  Marketing             143\n",
       "742    743       Georg Prince  Marketing             143\n",
       "1152  1153       Truman Carde  Marketing             143\n",
       "948    949   Guinevere Spence  Marketing             143\n",
       "\n",
       "[1317 rows x 4 columns]"
      ]
     },
     "execution_count": 15,
     "metadata": {},
     "output_type": "execute_result"
    }
   ],
   "source": [
    "df1 = df[df['department'].isin(depsSupMedia)][['id', 'name', 'department']]\n",
    "resumen2 = df1.join(dfdept.set_index('department'), on='department').sort_values(by='contr_por_dept', ascending=False)\n",
    "resumen2\n"
   ]
  },
  {
   "cell_type": "code",
   "execution_count": 16,
   "metadata": {},
   "outputs": [],
   "source": [
    "resumen2.to_csv('resumen2.csv', index=False)"
   ]
  }
 ],
 "metadata": {
  "kernelspec": {
   "display_name": ".venv",
   "language": "python",
   "name": "python3"
  },
  "language_info": {
   "codemirror_mode": {
    "name": "ipython",
    "version": 3
   },
   "file_extension": ".py",
   "mimetype": "text/x-python",
   "name": "python",
   "nbconvert_exporter": "python",
   "pygments_lexer": "ipython3",
   "version": "3.11.2"
  },
  "orig_nbformat": 4
 },
 "nbformat": 4,
 "nbformat_minor": 2
}
