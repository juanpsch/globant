{
 "cells": [
  {
   "cell_type": "code",
   "execution_count": 1,
   "metadata": {},
   "outputs": [],
   "source": [
    "import sqlite3\n",
    "import csv\n",
    "import pandas as pd\n",
    "import traceback\n",
    "import sys\n",
    "from datetime import datetime\n",
    "import matplotlib.pyplot as plt"
   ]
  },
  {
   "attachments": {},
   "cell_type": "markdown",
   "metadata": {},
   "source": [
    "# Challenge 1"
   ]
  },
  {
   "cell_type": "code",
   "execution_count": 2,
   "metadata": {},
   "outputs": [],
   "source": [
    "db = \"challenge.db\""
   ]
  },
  {
   "attachments": {},
   "cell_type": "markdown",
   "metadata": {},
   "source": [
    "## Creacion de Tablas"
   ]
  },
  {
   "cell_type": "code",
   "execution_count": 3,
   "metadata": {},
   "outputs": [],
   "source": [
    "## CREACION DE TABLAS\n",
    "\n",
    "con = sqlite3.connect(db)\n",
    "cur = con.cursor()\n",
    "\n",
    "\n",
    "try:\n",
    "    sql_file = open(\"createTables.sql\")\n",
    "    sql_as_string = sql_file.read()\n",
    "    cur.executescript(sql_as_string)\n",
    "except sqlite3.Error as er:\n",
    "     print('SQLite error: %s' % (' '.join(er.args)))\n",
    "     print(\"Exception class is: \", er.__class__)\n",
    "     print('SQLite traceback: ')\n",
    "     exc_type, exc_value, exc_tb = sys.exc_info()\n",
    "     print(traceback.format_exception(exc_type, exc_value, exc_tb))\n",
    "     con.close()\n",
    "\n",
    "con.close()"
   ]
  },
  {
   "attachments": {},
   "cell_type": "markdown",
   "metadata": {},
   "source": [
    "## Migrar datos desde archivos CSV"
   ]
  },
  {
   "cell_type": "code",
   "execution_count": 9,
   "metadata": {},
   "outputs": [],
   "source": [
    "\n",
    "def uploadData(db: str, file: str, table_name: str, columnas: list, if_exist='append'):\n",
    "     '''\n",
    "     Función para incorporar datos de un CSV a la base de datos\n",
    "     Param db: Nombre de la base de datos\n",
    "     Param file: archivo csv incluyendo path\n",
    "     Param table_name: nombre de la tabla destino\n",
    "     Param columnas: Lista de nombre de columnas de la tabla destino\n",
    "     \n",
    "     '''\n",
    "     \n",
    "     # Leer los CVS y Generar Dataframes\n",
    "     df = pd.read_csv(file, header=None)\n",
    "     df.columns = columnas\n",
    "     \n",
    "\n",
    "     # Llenar las tablas a partir de los DataFrames\n",
    "     con = sqlite3.connect(db)\n",
    "\n",
    "     try:\n",
    "        df.to_sql(table_name, con, if_exists=if_exist, index=False)\n",
    "     except sqlite3.Error as er:\n",
    "        print('SQLite error: %s' % (' '.join(er.args)))\n",
    "        print(\"Exception class is: \", er.__class__)\n",
    "        print('SQLite traceback: ')\n",
    "        exc_type, exc_value, exc_tb = sys.exc_info()\n",
    "        print(traceback.format_exception(exc_type, exc_value, exc_tb))\n",
    "\n",
    "     return"
   ]
  },
  {
   "cell_type": "code",
   "execution_count": 10,
   "metadata": {},
   "outputs": [],
   "source": [
    "uploadData(db=db, file='data/jobs.csv', table_name='jobs', columnas=['id', 'job'])\n",
    "uploadData(db=db, file='data/departments.csv', table_name='departments', columnas=['id', 'department'])\n",
    "uploadData(db=db, file='data/hired_employees.csv', table_name='hired_employees', columnas= ['id', 'name', 'datetime', 'department_id', 'job_id'])\n"
   ]
  },
  {
   "attachments": {},
   "cell_type": "markdown",
   "metadata": {},
   "source": [
    "## Testing cargando DataFrames desde la Base"
   ]
  },
  {
   "cell_type": "code",
   "execution_count": 6,
   "metadata": {},
   "outputs": [
    {
     "name": "stdout",
     "output_type": "stream",
     "text": [
      "   id                department\n",
      "0   1        Product Management\n",
      "1   2                     Sales\n",
      "2   3  Research and Development\n",
      "3   4      Business Development\n",
      "4   5               Engineering\n",
      "   id                        job\n",
      "0   1        Marketing Assistant\n",
      "1   2                   VP Sales\n",
      "2   3         Biostatistician IV\n",
      "3   4  Account Representative II\n",
      "4   5               VP Marketing\n",
      "   id            name              datetime  department_id  job_id\n",
      "0   1     Harold Vogt  2021-11-07T02:48:42Z            2.0    96.0\n",
      "1   2        Ty Hofer  2021-05-30T05:43:46Z            8.0     NaN\n",
      "2   3     Lyman Hadye  2021-09-01T23:27:38Z            5.0    52.0\n",
      "3   4   Lotti Crowthe  2021-10-01T13:04:21Z           12.0    71.0\n",
      "4   5  Gretna Lording  2021-10-10T22:22:17Z            6.0    80.0\n"
     ]
    }
   ],
   "source": [
    "depts = None\n",
    "jobs = None\n",
    "hired_employees = None\n",
    "\n",
    "con = sqlite3.connect(db)\n",
    "\n",
    "depts = pd.read_sql('SELECT * FROM DEPARTMENTS', con)\n",
    "jobs = pd.read_sql('SELECT * FROM JOBS', con)\n",
    "hired_employees = pd.read_sql('SELECT * FROM HIRED_EMPLOYEES', con)\n",
    "\n",
    "con.close()\n",
    "\n",
    "print(depts.head())\n",
    "print(jobs.head())\n",
    "print(hired_employees.head())"
   ]
  },
  {
   "cell_type": "code",
   "execution_count": 49,
   "metadata": {},
   "outputs": [],
   "source": [
    "con.close()"
   ]
  },
  {
   "attachments": {},
   "cell_type": "markdown",
   "metadata": {},
   "source": [
    "## Actualizar datos desde archivos CSV"
   ]
  },
  {
   "cell_type": "code",
   "execution_count": 11,
   "metadata": {},
   "outputs": [],
   "source": [
    "# Se usa la misma función que para importar todo, pero cambiando el parámetro if_exists a reload\n",
    "# Si el csv tiene datos nuevos, los incorpora, si tiene datos existentes, los actualiza\n",
    "\n",
    "uploadData(db=db, file='data/jobs.csv', table_name='jobs', columnas=['id', 'job'], if_exist='replace')\n",
    "uploadData(db=db, file='data/departments.csv', table_name='departments', columnas=['id', 'department'], if_exist='replace')\n",
    "uploadData(db=db, file='data/hired_employees.csv', table_name='hired_employees', columnas= ['id', 'name', 'datetime', 'department_id', 'job_id'], if_exist='replace')"
   ]
  }
 ],
 "metadata": {
  "kernelspec": {
   "display_name": ".venv",
   "language": "python",
   "name": "python3"
  },
  "language_info": {
   "codemirror_mode": {
    "name": "ipython",
    "version": 3
   },
   "file_extension": ".py",
   "mimetype": "text/x-python",
   "name": "python",
   "nbconvert_exporter": "python",
   "pygments_lexer": "ipython3",
   "version": "3.11.2"
  },
  "orig_nbformat": 4
 },
 "nbformat": 4,
 "nbformat_minor": 2
}
