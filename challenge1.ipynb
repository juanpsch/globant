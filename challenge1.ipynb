{
 "cells": [
  {
   "cell_type": "code",
   "execution_count": 1,
   "metadata": {},
   "outputs": [],
   "source": [
    "import sqlite3\n",
    "import csv\n",
    "import pandas as pd\n",
    "import traceback\n",
    "import sys\n",
    "from datetime import datetime\n",
    "import matplotlib.pyplot as plt"
   ]
  },
  {
   "attachments": {},
   "cell_type": "markdown",
   "metadata": {},
   "source": [
    "# Challenge 1"
   ]
  },
  {
   "cell_type": "code",
   "execution_count": 2,
   "metadata": {},
   "outputs": [],
   "source": [
    "db = \"challenge.db\""
   ]
  },
  {
   "attachments": {},
   "cell_type": "markdown",
   "metadata": {},
   "source": [
    "## Creacion de Tablas"
   ]
  },
  {
   "cell_type": "code",
   "execution_count": 3,
   "metadata": {},
   "outputs": [],
   "source": [
    "## CREACION DE TABLAS\n",
    "\n",
    "con = sqlite3.connect(db)\n",
    "cur = con.cursor()\n",
    "\n",
    "\n",
    "try:\n",
    "    sql_file = open(\"createTables.sql\")\n",
    "    sql_as_string = sql_file.read()\n",
    "    cur.executescript(sql_as_string)\n",
    "except sqlite3.Error as er:\n",
    "     print('SQLite error: %s' % (' '.join(er.args)))\n",
    "     print(\"Exception class is: \", er.__class__)\n",
    "     print('SQLite traceback: ')\n",
    "     exc_type, exc_value, exc_tb = sys.exc_info()\n",
    "     print(traceback.format_exception(exc_type, exc_value, exc_tb))\n",
    "     con.close()\n",
    "\n",
    "con.close()"
   ]
  },
  {
   "attachments": {},
   "cell_type": "markdown",
   "metadata": {},
   "source": [
    "## Migrar datos desde archivos CSV"
   ]
  },
  {
   "attachments": {},
   "cell_type": "markdown",
   "metadata": {},
   "source": [
    "Leer los CVS"
   ]
  },
  {
   "cell_type": "code",
   "execution_count": 4,
   "metadata": {},
   "outputs": [],
   "source": [
    "depts = pd.read_csv('data/departments.csv', header=0)\n",
    "emps = pd.read_csv('data/hired_employees.csv')\n",
    "jobs = pd.read_csv('data/jobs.csv')"
   ]
  },
  {
   "attachments": {},
   "cell_type": "markdown",
   "metadata": {},
   "source": [
    "Generar Dataframes"
   ]
  },
  {
   "cell_type": "code",
   "execution_count": 5,
   "metadata": {},
   "outputs": [],
   "source": [
    "depts = pd.read_csv('data/departments.csv', header=None)\n",
    "depts.columns = ['id', 'department']\n",
    "\n",
    "jobs = pd.read_csv('data/jobs.csv', header=None)\n",
    "jobs.columns = ['id', 'job']\n",
    "\n",
    "hired_employees = pd.read_csv('data/hired_employees.csv', header=None)\n",
    "hired_employees.columns = ['id', 'name', 'datetime', 'department_id', 'job_id']\n"
   ]
  },
  {
   "attachments": {},
   "cell_type": "markdown",
   "metadata": {},
   "source": [
    "Llenar las tablas a partir de los DataFrames"
   ]
  },
  {
   "cell_type": "code",
   "execution_count": 6,
   "metadata": {},
   "outputs": [],
   "source": [
    "\n",
    "con = sqlite3.connect(db)\n",
    "\n",
    "try:\n",
    "    depts.to_sql('departments', con, if_exists='replace', index=False)\n",
    "except sqlite3.Error as er:\n",
    "     print('SQLite error: %s' % (' '.join(er.args)))\n",
    "     print(\"Exception class is: \", er.__class__)\n",
    "     print('SQLite traceback: ')\n",
    "     exc_type, exc_value, exc_tb = sys.exc_info()\n",
    "     print(traceback.format_exception(exc_type, exc_value, exc_tb))\n",
    "     \n",
    "try:\n",
    "    jobs.to_sql('jobs', con, if_exists='replace', index=False)\n",
    "except sqlite3.Error as er:\n",
    "     print('SQLite error: %s' % (' '.join(er.args)))\n",
    "     print(\"Exception class is: \", er.__class__)\n",
    "     print('SQLite traceback: ')\n",
    "     exc_type, exc_value, exc_tb = sys.exc_info()\n",
    "     print(traceback.format_exception(exc_type, exc_value, exc_tb))\n",
    "     \n",
    "try:\n",
    "    hired_employees.to_sql('hired_employees', con, if_exists='replace', index=False)\n",
    "except sqlite3.Error as er:\n",
    "     print('SQLite error: %s' % (' '.join(er.args)))\n",
    "     print(\"Exception class is: \", er.__class__)\n",
    "     print('SQLite traceback: ')\n",
    "     exc_type, exc_value, exc_tb = sys.exc_info()\n",
    "     print(traceback.format_exception(exc_type, exc_value, exc_tb))\n",
    "     \n",
    "con.close()"
   ]
  },
  {
   "attachments": {},
   "cell_type": "markdown",
   "metadata": {},
   "source": [
    "## Testing cargando DataFrames desde la Base"
   ]
  },
  {
   "cell_type": "code",
   "execution_count": 7,
   "metadata": {},
   "outputs": [],
   "source": [
    "depts = None\n",
    "jobs = None\n",
    "hired_employees = None\n",
    "\n",
    "con = sqlite3.connect(db)\n",
    "\n",
    "depts = pd.read_sql('SELECT * FROM DEPARTMENTS', con)\n",
    "jobs = pd.read_sql('SELECT * FROM JOBS', con)\n",
    "hired_employees = pd.read_sql('SELECT * FROM HIRED_EMPLOYEES', con)\n",
    "\n",
    "con.close()"
   ]
  }
 ],
 "metadata": {
  "kernelspec": {
   "display_name": ".venv",
   "language": "python",
   "name": "python3"
  },
  "language_info": {
   "codemirror_mode": {
    "name": "ipython",
    "version": 3
   },
   "file_extension": ".py",
   "mimetype": "text/x-python",
   "name": "python",
   "nbconvert_exporter": "python",
   "pygments_lexer": "ipython3",
   "version": "3.11.2"
  },
  "orig_nbformat": 4
 },
 "nbformat": 4,
 "nbformat_minor": 2
}
